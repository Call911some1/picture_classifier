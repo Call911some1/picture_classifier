{
 "cells": [
  {
   "cell_type": "code",
   "execution_count": 7,
   "metadata": {},
   "outputs": [],
   "source": [
    "import os\n",
    "import torch\n",
    "import torch.nn as nn\n",
    "import torch.optim as optim\n",
    "import torchvision.transforms as transforms\n",
    "import torchvision.models as models\n",
    "from torchvision.models import efficientnet_b0, EfficientNet_B0_Weights\n",
    "from PIL import Image\n",
    "import pandas as pd\n",
    "from torch.utils.data import Dataset, DataLoader"
   ]
  },
  {
   "cell_type": "code",
   "execution_count": 8,
   "metadata": {},
   "outputs": [],
   "source": [
    "# --- Предыдущие настройки ---\n",
    "class CustomDataset(Dataset):\n",
    "    def __init__(self, csv_file, root_dir, transform=None):\n",
    "        self.annotations = pd.read_csv(csv_file)\n",
    "        self.root_dir = root_dir\n",
    "        self.transform = transform\n",
    "\n",
    "    def __len__(self):\n",
    "        return len(self.annotations)\n",
    "\n",
    "    def __getitem__(self, idx):\n",
    "        img_path = os.path.join(self.root_dir, self.annotations.iloc[idx, 1])\n",
    "        image = Image.open(img_path).convert(\"RGB\")\n",
    "        label = int(self.annotations.iloc[idx, 2])\n",
    "        \n",
    "        if self.transform:\n",
    "            image = self.transform(image)\n",
    "\n",
    "        return image, label"
   ]
  },
  {
   "cell_type": "code",
   "execution_count": 9,
   "metadata": {},
   "outputs": [],
   "source": [
    "# Пути к CSV-файлам и корневая папка\n",
    "train_csv = '/home/andrey/Downloads/picture_classifier/data/EuroSAT/train.csv'\n",
    "valid_csv = '/home/andrey/Downloads/picture_classifier/data/EuroSAT/validation.csv'\n",
    "image_root_dir = '/home/andrey/Downloads/picture_classifier/data/EuroSAT'"
   ]
  },
  {
   "cell_type": "code",
   "execution_count": 10,
   "metadata": {},
   "outputs": [],
   "source": [
    "# Применяем трансформации\n",
    "train_transforms = transforms.Compose([\n",
    "    transforms.Resize((224, 224)),\n",
    "    transforms.RandomHorizontalFlip(),\n",
    "    transforms.ToTensor(),\n",
    "    transforms.Normalize((0.5, 0.5, 0.5), (0.5, 0.5, 0.5))\n",
    "])\n",
    "\n",
    "valid_transforms = transforms.Compose([\n",
    "    transforms.Resize((224, 224)),\n",
    "    transforms.ToTensor(),\n",
    "    transforms.Normalize((0.5, 0.5, 0.5), (0.5, 0.5, 0.5))\n",
    "])"
   ]
  },
  {
   "cell_type": "code",
   "execution_count": 11,
   "metadata": {},
   "outputs": [],
   "source": [
    "# Создаем кастомный датасет и DataLoader\n",
    "train_dataset = CustomDataset(csv_file=train_csv, root_dir=image_root_dir, transform=train_transforms)\n",
    "valid_dataset = CustomDataset(csv_file=valid_csv, root_dir=image_root_dir, transform=valid_transforms)\n",
    "\n",
    "train_loader = DataLoader(train_dataset, batch_size=32, shuffle=True)\n",
    "valid_loader = DataLoader(valid_dataset, batch_size=32, shuffle=False)"
   ]
  },
  {
   "cell_type": "code",
   "execution_count": 12,
   "metadata": {},
   "outputs": [
    {
     "name": "stdout",
     "output_type": "stream",
     "text": [
      "Размер загруженных изображений: torch.Size([32, 3, 224, 224])\n",
      "Размер загруженных меток: torch.Size([32])\n",
      "Используемое устройство: cuda\n",
      "Количество классов: 10\n"
     ]
    }
   ],
   "source": [
    "# Проверка работы DataLoader\n",
    "data_iter = iter(train_loader)\n",
    "images, labels = next(data_iter)\n",
    "print(f\"Размер загруженных изображений: {images.shape}\")\n",
    "print(f\"Размер загруженных меток: {labels.shape}\")\n",
    "\n",
    "# Устройство (GPU или CPU)\n",
    "device = torch.device(\"cuda\" if torch.cuda.is_available() else \"cpu\")\n",
    "print(f\"Используемое устройство: {device}\")\n",
    "\n",
    "# --- Настройка моделей ---\n",
    "# Количество классов\n",
    "num_classes = len(train_dataset.annotations['Label'].unique())\n",
    "print(f\"Количество классов: {num_classes}\")"
   ]
  },
  {
   "cell_type": "code",
   "execution_count": 13,
   "metadata": {},
   "outputs": [
    {
     "name": "stderr",
     "output_type": "stream",
     "text": [
      "/home/andrey/miniforge3/lib/python3.10/site-packages/torchvision/models/_utils.py:208: UserWarning: The parameter 'pretrained' is deprecated since 0.13 and may be removed in the future, please use 'weights' instead.\n",
      "  warnings.warn(\n",
      "/home/andrey/miniforge3/lib/python3.10/site-packages/torchvision/models/_utils.py:223: UserWarning: Arguments other than a weight enum or `None` for 'weights' are deprecated since 0.13 and may be removed in the future. The current behavior is equivalent to passing `weights=ResNet50_Weights.IMAGENET1K_V1`. You can also use `weights=ResNet50_Weights.DEFAULT` to get the most up-to-date weights.\n",
      "  warnings.warn(msg)\n",
      "Downloading: \"https://download.pytorch.org/models/efficientnet_b0_rwightman-7f5810bc.pth\" to /home/andrey/.cache/torch/hub/checkpoints/efficientnet_b0_rwightman-7f5810bc.pth\n",
      "100%|██████████| 20.5M/20.5M [00:00<00:00, 83.2MB/s]\n"
     ]
    }
   ],
   "source": [
    "# Модель 1: ResNet-50\n",
    "resnet_model = models.resnet50(pretrained=True)\n",
    "resnet_model.fc = nn.Linear(resnet_model.fc.in_features, num_classes)\n",
    "resnet_model = resnet_model.to(device)\n",
    "\n",
    "# Модель 2: EfficientNet-B0\n",
    "efficientnet_model = efficientnet_b0(weights=EfficientNet_B0_Weights.DEFAULT)\n",
    "efficientnet_model.classifier[1] = nn.Linear(efficientnet_model.classifier[1].in_features, num_classes)\n",
    "efficientnet_model = efficientnet_model.to(device)"
   ]
  },
  {
   "cell_type": "code",
   "execution_count": 14,
   "metadata": {},
   "outputs": [],
   "source": [
    "# Замораживаем все параметры, кроме последнего слоя\n",
    "for param in resnet_model.parameters():\n",
    "    param.requires_grad = False\n",
    "for param in resnet_model.fc.parameters():\n",
    "    param.requires_grad = True\n",
    "\n",
    "for param in efficientnet_model.parameters():\n",
    "    param.requires_grad = False\n",
    "for param in efficientnet_model.classifier[1].parameters():\n",
    "    param.requires_grad = True"
   ]
  },
  {
   "cell_type": "code",
   "execution_count": 15,
   "metadata": {},
   "outputs": [],
   "source": [
    "# Определяем функцию потерь и оптимизаторы для каждой модели\n",
    "criterion = nn.CrossEntropyLoss()\n",
    "optimizer_resnet = optim.Adam(resnet_model.fc.parameters(), lr=0.001)\n",
    "optimizer_efficientnet = optim.Adam(efficientnet_model.classifier[1].parameters(), lr=0.001)"
   ]
  },
  {
   "cell_type": "code",
   "execution_count": 16,
   "metadata": {},
   "outputs": [],
   "source": [
    "# --- Функция для обучения ---\n",
    "def train_model(model, optimizer, num_epochs=10):\n",
    "    model.train()\n",
    "    for epoch in range(num_epochs):\n",
    "        running_loss = 0.0\n",
    "        for images, labels in train_loader:\n",
    "            images, labels = images.to(device), labels.to(device)\n",
    "\n",
    "            # Обнуляем градиенты\n",
    "            optimizer.zero_grad()\n",
    "\n",
    "            # Прямой проход\n",
    "            outputs = model(images)\n",
    "\n",
    "            # Потери и оптимизация\n",
    "            loss = criterion(outputs, labels)\n",
    "            loss.backward()\n",
    "            optimizer.step()\n",
    "\n",
    "            running_loss += loss.item()\n",
    "\n",
    "        print(f\"Эпоха [{epoch+1}/{num_epochs}], Потеря: {running_loss/len(train_loader):.4f}\")"
   ]
  },
  {
   "cell_type": "code",
   "execution_count": 17,
   "metadata": {},
   "outputs": [],
   "source": [
    "# --- Функция для оценки ---\n",
    "def evaluate_model(model):\n",
    "    model.eval()\n",
    "    correct = 0\n",
    "    total = 0\n",
    "    with torch.no_grad():\n",
    "        for images, labels in valid_loader:\n",
    "            images, labels = images.to(device), labels.to(device)\n",
    "            outputs = model(images)\n",
    "            _, predicted = torch.max(outputs.data, 1)\n",
    "            total += labels.size(0)\n",
    "            correct += (predicted == labels).sum().item()\n",
    "\n",
    "    accuracy = 100 * correct / total\n",
    "    return accuracy"
   ]
  },
  {
   "cell_type": "code",
   "execution_count": 18,
   "metadata": {},
   "outputs": [
    {
     "name": "stdout",
     "output_type": "stream",
     "text": [
      "\n",
      "Обучение модели ResNet-50\n",
      "Эпоха [1/10], Потеря: 0.5003\n",
      "Эпоха [2/10], Потеря: 0.2928\n",
      "Эпоха [3/10], Потеря: 0.2633\n",
      "Эпоха [4/10], Потеря: 0.2412\n",
      "Эпоха [5/10], Потеря: 0.2377\n",
      "Эпоха [6/10], Потеря: 0.2319\n",
      "Эпоха [7/10], Потеря: 0.2050\n",
      "Эпоха [8/10], Потеря: 0.2093\n",
      "Эпоха [9/10], Потеря: 0.2082\n",
      "Эпоха [10/10], Потеря: 0.1973\n",
      "Точность ResNet-50: 93.94%\n"
     ]
    }
   ],
   "source": [
    "# --- Обучение и оценка ResNet-50 ---\n",
    "print(\"\\nОбучение модели ResNet-50\")\n",
    "train_model(resnet_model, optimizer_resnet, num_epochs=10)\n",
    "resnet_accuracy = evaluate_model(resnet_model)\n",
    "print(f'Точность ResNet-50: {resnet_accuracy:.2f}%')"
   ]
  },
  {
   "cell_type": "code",
   "execution_count": 19,
   "metadata": {},
   "outputs": [
    {
     "name": "stdout",
     "output_type": "stream",
     "text": [
      "\n",
      "Обучение модели EfficientNet-B0\n",
      "Эпоха [1/10], Потеря: 0.5964\n",
      "Эпоха [2/10], Потеря: 0.3675\n",
      "Эпоха [3/10], Потеря: 0.3323\n",
      "Эпоха [4/10], Потеря: 0.3196\n",
      "Эпоха [5/10], Потеря: 0.2994\n",
      "Эпоха [6/10], Потеря: 0.3003\n",
      "Эпоха [7/10], Потеря: 0.2884\n",
      "Эпоха [8/10], Потеря: 0.2914\n",
      "Эпоха [9/10], Потеря: 0.2831\n",
      "Эпоха [10/10], Потеря: 0.2851\n",
      "Точность EfficientNet-B0: 93.02%\n"
     ]
    }
   ],
   "source": [
    "# --- Обучение и оценка EfficientNet-B0 ---\n",
    "print(\"\\nОбучение модели EfficientNet-B0\")\n",
    "train_model(efficientnet_model, optimizer_efficientnet, num_epochs=10)\n",
    "efficientnet_accuracy = evaluate_model(efficientnet_model)\n",
    "print(f'Точность EfficientNet-B0: {efficientnet_accuracy:.2f}%')"
   ]
  },
  {
   "cell_type": "code",
   "execution_count": 20,
   "metadata": {},
   "outputs": [
    {
     "name": "stdout",
     "output_type": "stream",
     "text": [
      "\n",
      "Сравнение моделей:\n",
      "ResNet-50 точность: 93.94%\n",
      "EfficientNet-B0 точность: 93.02%\n"
     ]
    }
   ],
   "source": [
    "# --- Сравнение результатов ---\n",
    "print(\"\\nСравнение моделей:\")\n",
    "print(f\"ResNet-50 точность: {resnet_accuracy:.2f}%\")\n",
    "print(f\"EfficientNet-B0 точность: {efficientnet_accuracy:.2f}%\")"
   ]
  },
  {
   "cell_type": "code",
   "execution_count": 23,
   "metadata": {},
   "outputs": [
    {
     "name": "stdout",
     "output_type": "stream",
     "text": [
      "ResNet-50 сохранена в '/home/andrey/Downloads/picture_classifier/models/resnet50_eurosat.pth'\n",
      "EfficientNet-B0 сохранена в '/home/andrey/Downloads/picture_classifier/models/efficientnet_b0_eurosat.pth'\n"
     ]
    }
   ],
   "source": [
    "# Сохранение ResNet-50\n",
    "torch.save(resnet_model.state_dict(), '/home/andrey/Downloads/picture_classifier/models/resnet50_eurosat.pth')\n",
    "print(\"ResNet-50 сохранена в '/home/andrey/Downloads/picture_classifier/models/resnet50_eurosat.pth'\")\n",
    "\n",
    "# Сохранение EfficientNet-B0\n",
    "torch.save(efficientnet_model.state_dict(), '/home/andrey/Downloads/picture_classifier/models/efficientnet_b0_eurosat.pth')\n",
    "print(\"EfficientNet-B0 сохранена в '/home/andrey/Downloads/picture_classifier/models/efficientnet_b0_eurosat.pth'\")"
   ]
  },
  {
   "cell_type": "code",
   "execution_count": null,
   "metadata": {},
   "outputs": [],
   "source": []
  }
 ],
 "metadata": {
  "kernelspec": {
   "display_name": "base",
   "language": "python",
   "name": "python3"
  },
  "language_info": {
   "codemirror_mode": {
    "name": "ipython",
    "version": 3
   },
   "file_extension": ".py",
   "mimetype": "text/x-python",
   "name": "python",
   "nbconvert_exporter": "python",
   "pygments_lexer": "ipython3",
   "version": "3.10.14"
  }
 },
 "nbformat": 4,
 "nbformat_minor": 2
}
